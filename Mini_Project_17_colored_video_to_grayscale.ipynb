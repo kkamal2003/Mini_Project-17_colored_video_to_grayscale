{
  "nbformat": 4,
  "nbformat_minor": 0,
  "metadata": {
    "colab": {
      "provenance": [],
      "authorship_tag": "ABX9TyMzwF8KInLXiTDQESRC4MVa",
      "include_colab_link": true
    },
    "kernelspec": {
      "name": "python3",
      "display_name": "Python 3"
    },
    "language_info": {
      "name": "python"
    }
  },
  "cells": [
    {
      "cell_type": "markdown",
      "metadata": {
        "id": "view-in-github",
        "colab_type": "text"
      },
      "source": [
        "<a href=\"https://colab.research.google.com/github/kkamal2003/Mini_Project-17_colored_video_to_grayscale/blob/main/Mini_Project_17_colored_video_to_grayscale.ipynb\" target=\"_parent\"><img src=\"https://colab.research.google.com/assets/colab-badge.svg\" alt=\"Open In Colab\"/></a>"
      ]
    },
    {
      "cell_type": "code",
      "source": [
        "pip install pytube"
      ],
      "metadata": {
        "colab": {
          "base_uri": "https://localhost:8080/"
        },
        "id": "Q9wZ27KS09d4",
        "outputId": "800ee3a6-07cb-4f2d-8ced-217ef7d38ada"
      },
      "execution_count": 10,
      "outputs": [
        {
          "output_type": "stream",
          "name": "stdout",
          "text": [
            "Looking in indexes: https://pypi.org/simple, https://us-python.pkg.dev/colab-wheels/public/simple/\n",
            "Requirement already satisfied: pytube in /usr/local/lib/python3.10/dist-packages (15.0.0)\n"
          ]
        }
      ]
    },
    {
      "cell_type": "code",
      "execution_count": 13,
      "metadata": {
        "colab": {
          "base_uri": "https://localhost:8080/"
        },
        "id": "K2H-twTE02mz",
        "outputId": "43d2f3ce-b646-4ca1-cfa2-0324700011b2"
      },
      "outputs": [
        {
          "output_type": "stream",
          "name": "stdout",
          "text": [
            "Downloading: Machine Learning Explained in 100 Seconds (720p)\n"
          ]
        }
      ],
      "source": [
        "from pytube import YouTube\n",
        "\n",
        "video_url = \"https://www.youtube.com/watch?v=PeMlggyqz0Y\"\n",
        "yt = YouTube(video_url)\n",
        "\n",
        "# Set the desired video quality\n",
        "desired_quality = \"720p\"  # Example: \"720p\", \"480p\", \"360p\", \"240p\", etc.\n",
        "\n",
        "# Filter the streams based on the desired quality\n",
        "filtered_streams = yt.streams.filter(res=desired_quality)\n",
        "\n",
        "if len(filtered_streams) > 0:\n",
        "    # Get the first stream from the filtered list\n",
        "    stream = filtered_streams.first()\n",
        "\n",
        "    print(f\"Downloading: {yt.title} ({desired_quality})\")\n",
        "    stream.download()\n",
        "else:\n",
        "    print(f\"No streams found with the quality: {desired_quality}\")\n"
      ]
    },
    {
      "cell_type": "code",
      "source": [
        "import cv2\n",
        "from moviepy.editor import VideoFileClip\n",
        "\n",
        "# Load the video\n",
        "video_path = \"/content/Machine Learning Explained in 100 Seconds.mp4\"\n",
        "cap = cv2.VideoCapture(video_path)\n",
        "\n",
        "# Get the video properties\n",
        "fps = cap.get(cv2.CAP_PROP_FPS)\n",
        "width = int(cap.get(cv2.CAP_PROP_FRAME_WIDTH))\n",
        "height = int(cap.get(cv2.CAP_PROP_FRAME_HEIGHT))\n",
        "\n",
        "# Create a VideoWriter object to save the grayscale video\n",
        "output_path = \"output_video.mp4\"\n",
        "fourcc = cv2.VideoWriter_fourcc(*\"mp4v\")\n",
        "out = cv2.VideoWriter(output_path, fourcc, fps, (width, height), isColor=False)\n",
        "\n",
        "# Loop through the video frames\n",
        "while cap.isOpened():\n",
        "    ret, frame = cap.read()\n",
        "    if ret:\n",
        "        # Convert the frame to grayscale\n",
        "        gray_frame = cv2.cvtColor(frame, cv2.COLOR_BGR2GRAY)\n",
        "\n",
        "        # Write the grayscale frame to the output video\n",
        "        out.write(gray_frame)\n",
        "\n",
        "        # Check if the 'q' key is pressed to quit\n",
        "        if cv2.waitKey(1) & 0xFF == ord('q'):\n",
        "            break\n",
        "    else:\n",
        "        break\n",
        "\n",
        "# Release the video capture and writer objects\n",
        "cap.release()\n",
        "out.release()\n",
        "\n",
        "# Close the OpenCV windows\n",
        "cv2.destroyAllWindows()\n",
        "\n",
        "# Add audio to the grayscale video using moviepy\n",
        "video_clip = VideoFileClip(output_path)\n",
        "video_clip1 = VideoFileClip(video_path)\n",
        "audio_clip = video_clip1.audio\n",
        "final_clip = video_clip.set_audio(audio_clip)\n",
        "final_output_path = \"output_video_with_audio.mp4\"\n",
        "final_clip.write_videofile(final_output_path, codec=\"libx264\", audio_codec=\"aac\")\n",
        "\n",
        "print(\"Conversion complete. Grayscale video with audio saved.\")\n"
      ],
      "metadata": {
        "colab": {
          "base_uri": "https://localhost:8080/"
        },
        "id": "u1YRrBi009EF",
        "outputId": "7b9106e7-5f54-405f-e234-26356a846520"
      },
      "execution_count": 17,
      "outputs": [
        {
          "output_type": "stream",
          "name": "stdout",
          "text": [
            "Moviepy - Building video output_video_with_audio.mp4.\n",
            "MoviePy - Writing audio in output_video_with_audioTEMP_MPY_wvf_snd.mp4\n"
          ]
        },
        {
          "output_type": "stream",
          "name": "stderr",
          "text": []
        },
        {
          "output_type": "stream",
          "name": "stdout",
          "text": [
            "MoviePy - Done.\n",
            "Moviepy - Writing video output_video_with_audio.mp4\n",
            "\n"
          ]
        },
        {
          "output_type": "stream",
          "name": "stderr",
          "text": [
            "t: 100%|█████████▉| 4614/4618 [02:30<00:00, 29.41it/s, now=None]WARNING:py.warnings:/usr/local/lib/python3.10/dist-packages/moviepy/video/io/ffmpeg_reader.py:123: UserWarning: Warning: in file output_video.mp4, 2764800 bytes wanted but 0 bytes read,at frame 4617/4618, at time 154.05/154.06 sec. Using the last valid frame instead.\n",
            "  warnings.warn(\"Warning: in file %s, \"%(self.filename)+\n",
            "\n"
          ]
        },
        {
          "output_type": "stream",
          "name": "stdout",
          "text": [
            "Moviepy - Done !\n",
            "Moviepy - video ready output_video_with_audio.mp4\n",
            "Conversion complete. Grayscale video with audio saved.\n"
          ]
        }
      ]
    }
  ]
}